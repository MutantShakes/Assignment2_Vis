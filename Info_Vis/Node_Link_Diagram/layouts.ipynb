{
 "cells": [
  {
   "cell_type": "code",
   "execution_count": null,
   "metadata": {},
   "outputs": [],
   "source": [
    "import networkx as nx\n",
    "import matplotlib.pyplot as plt\n",
    "\n",
    "# Create a sample graph for illustration\n",
    "G = nx.karate_club_graph()\n",
    "\n",
    "# Circular Layout\n",
    "plt.figure(figsize=(8, 8))\n",
    "pos_circular = nx.circular_layout(G)\n",
    "nx.draw(G, pos_circular, with_labels=True, font_weight='bold')\n",
    "plt.title('Circular Layout')\n",
    "plt.show()\n",
    "\n",
    "# Force-Directed Layout\n",
    "plt.figure(figsize=(8, 8))\n",
    "pos_force = nx.spring_layout(G)\n",
    "nx.draw(G, pos_force, with_labels=True, font_weight='bold')\n",
    "plt.title('Force-Directed Layout')\n",
    "plt.show()\n",
    "\n",
    "# Tree Layout\n",
    "plt.figure(figsize=(8, 8))\n",
    "pos_tree = nx.nx_pydot.graphviz_layout(G, prog='dot')\n",
    "nx.draw(G, pos_tree, with_labels=True, font_weight='bold')\n",
    "plt.title('Tree Layout')\n",
    "plt.show()\n",
    "\n",
    "# Kamada-Kawai Layout\n",
    "plt.figure(figsize=(8, 8))\n",
    "pos_kamada = nx.kamada_kawai_layout(G)\n",
    "nx.draw(G, pos_kamada, with_labels=True, font_weight='bold')\n",
    "plt.title('Kamada-Kawai Layout')\n",
    "plt.show()\n",
    "\n",
    "# Fruchterman-Reingold Layout\n",
    "plt.figure(figsize=(8, 8))\n",
    "pos_fr = nx.fruchterman_reingold_layout(G)\n",
    "nx.draw(G, pos_fr, with_labels=True, font_weight='bold')\n",
    "plt.title('Fruchterman-Reingold Layout')\n",
    "plt.show()"
   ]
  }
 ],
 "metadata": {
  "language_info": {
   "name": "python"
  },
  "orig_nbformat": 4
 },
 "nbformat": 4,
 "nbformat_minor": 2
}
